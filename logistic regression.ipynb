{
 "cells": [
  {
   "cell_type": "markdown",
   "id": "262f15fd",
   "metadata": {},
   "source": [
    "# importing libraries"
   ]
  },
  {
   "cell_type": "code",
   "execution_count": 16,
   "id": "449d7a50",
   "metadata": {},
   "outputs": [],
   "source": [
    "import numpy as np \n",
    "import pandas as pd\n"
   ]
  },
  {
   "cell_type": "markdown",
   "id": "eefad0c1",
   "metadata": {},
   "source": [
    "# coverting data to Data Frame"
   ]
  },
  {
   "cell_type": "code",
   "execution_count": 18,
   "id": "b729e7a7",
   "metadata": {},
   "outputs": [
    {
     "name": "stdout",
     "output_type": "stream",
     "text": [
      "   bias  x1  x2  y\n",
      "0     1  60  22  0\n",
      "1     1  62  25  0\n",
      "2     1  67  24  0\n",
      "3     1  70  20  0\n",
      "4     1  71  15  1\n",
      "5     1  72  14  1\n",
      "6     1  75  14  1\n",
      "7     1  78  11  1\n",
      "(8, 4)\n"
     ]
    }
   ],
   "source": [
    "data=pd.DataFrame({\"bias\":[1,1,1,1,1,1,1,1],\n",
    "    \"x1\":[60,62,67,70,71,72,75,78],\n",
    "      \"x2\":[22,25,24,20,15,14,14,11],\n",
    "      \"y\":[0,0,0,0,1,1,1,1]})\n",
    "print(data)\n",
    "print(data.shape)"
   ]
  },
  {
   "cell_type": "markdown",
   "id": "5f2cbbc8",
   "metadata": {},
   "source": [
    "# initializing theeta\"s"
   ]
  },
  {
   "cell_type": "code",
   "execution_count": 76,
   "id": "2246d18f",
   "metadata": {},
   "outputs": [
    {
     "name": "stdout",
     "output_type": "stream",
     "text": [
      "[1 0 1]\n"
     ]
    }
   ],
   "source": [
    "theta=np.random.randint(0,2,3) # intializing theeta's\n",
    "print(theta)"
   ]
  },
  {
   "cell_type": "markdown",
   "id": "3820f3d5",
   "metadata": {},
   "source": [
    "# computing hypothesis"
   ]
  },
  {
   "cell_type": "code",
   "execution_count": 78,
   "id": "40373567",
   "metadata": {},
   "outputs": [
    {
     "name": "stdout",
     "output_type": "stream",
     "text": [
      "0    23\n",
      "1    26\n",
      "2    25\n",
      "3    21\n",
      "4    16\n",
      "5    15\n",
      "6    15\n",
      "7    12\n",
      "dtype: int64\n"
     ]
    }
   ],
   "source": [
    "z=theta[0]*data[\"bias\"]+theta[1]*data[\"x1\"]+theta[2]*data[\"x2\"]\n",
    "print(z)"
   ]
  },
  {
   "cell_type": "markdown",
   "id": "a498d1b8",
   "metadata": {},
   "source": [
    "# adding my Z or hypothesis in my Data Frame"
   ]
  },
  {
   "cell_type": "code",
   "execution_count": 81,
   "id": "c496c13f",
   "metadata": {},
   "outputs": [
    {
     "name": "stdout",
     "output_type": "stream",
     "text": [
      "   bias  x1  x2  y  z/hypothesis  sigmoid  cost\n",
      "0     1  60  22  0            23      1.0   inf\n",
      "1     1  62  25  0            26      1.0   inf\n",
      "2     1  67  24  0            25      1.0   inf\n",
      "3     1  70  20  0            21      1.0   inf\n",
      "4     1  71  15  1            16      1.0   inf\n",
      "5     1  72  14  1            15      1.0   inf\n",
      "6     1  75  14  1            15      1.0   inf\n",
      "7     1  78  11  1            12      1.0   inf\n"
     ]
    }
   ],
   "source": [
    "data[\"z/hypothesis\"]=theta[0]*data[\"bias\"]+theta[1]*data[\"x1\"]+theta[2]*data[\"x2\"]\n",
    "print(data)"
   ]
  },
  {
   "cell_type": "markdown",
   "id": "a5907871",
   "metadata": {},
   "source": [
    "# computing sigmoid function"
   ]
  },
  {
   "cell_type": "code",
   "execution_count": 83,
   "id": "5b4347e2",
   "metadata": {},
   "outputs": [],
   "source": [
    "def sigmoid(data):\n",
    "    s=1+np.exp(-data[\"z/hypothesis\"])\n",
    "    sigmoid=1/s\n",
    "    return sigmoid  "
   ]
  },
  {
   "cell_type": "markdown",
   "id": "b6e270aa",
   "metadata": {},
   "source": [
    "# checking wheather my sigmoid function is correct or not "
   ]
  },
  {
   "cell_type": "code",
   "execution_count": 85,
   "id": "2d5ae5b2",
   "metadata": {},
   "outputs": [
    {
     "name": "stdout",
     "output_type": "stream",
     "text": [
      "0    1.000000\n",
      "1    1.000000\n",
      "2    1.000000\n",
      "3    1.000000\n",
      "4    1.000000\n",
      "5    1.000000\n",
      "6    1.000000\n",
      "7    0.999994\n",
      "Name: z/hypothesis, dtype: float64\n"
     ]
    }
   ],
   "source": [
    "sig=sigmoid(data)\n",
    "print(sig)"
   ]
  },
  {
   "cell_type": "markdown",
   "id": "6ffd1128",
   "metadata": {},
   "source": [
    "# Also adding my sigmoid in my Data Frame"
   ]
  },
  {
   "cell_type": "code",
   "execution_count": 87,
   "id": "05497373",
   "metadata": {},
   "outputs": [
    {
     "name": "stdout",
     "output_type": "stream",
     "text": [
      "   bias  x1  x2  y  z/hypothesis   sigmoid  cost\n",
      "0     1  60  22  0            23  1.000000   inf\n",
      "1     1  62  25  0            26  1.000000   inf\n",
      "2     1  67  24  0            25  1.000000   inf\n",
      "3     1  70  20  0            21  1.000000   inf\n",
      "4     1  71  15  1            16  1.000000   inf\n",
      "5     1  72  14  1            15  1.000000   inf\n",
      "6     1  75  14  1            15  1.000000   inf\n",
      "7     1  78  11  1            12  0.999994   inf\n"
     ]
    }
   ],
   "source": [
    "data[\"sigmoid\"]=sigmoid(data)\n",
    "print(data)"
   ]
  },
  {
   "cell_type": "markdown",
   "id": "e3258af4",
   "metadata": {},
   "source": [
    "# Calculating cost function Using Binary Cross Entropy"
   ]
  },
  {
   "cell_type": "code",
   "execution_count": 124,
   "id": "08305c6e",
   "metadata": {},
   "outputs": [],
   "source": [
    "m=8\n",
    "def cost_function(data):\n",
    "    for i in range(m):\n",
    "        a=1/m\n",
    "        b=data[\"y\"]*(np.log(data[\"sigmoid\"]))\n",
    "        c=(1-data[\"y\"])+(np.log(1-data[\"sigmoid\"]))\n",
    "        result=b+c\n",
    "        cost=-a*result\n",
    "    return cost\n"
   ]
  },
  {
   "cell_type": "markdown",
   "id": "ff944a01",
   "metadata": {},
   "source": [
    "# Computing Cost Function "
   ]
  },
  {
   "cell_type": "code",
   "execution_count": 126,
   "id": "b48b0e15",
   "metadata": {},
   "outputs": [
    {
     "name": "stdout",
     "output_type": "stream",
     "text": [
      "0    2.750000\n",
      "1    3.125002\n",
      "2    2.999999\n",
      "3    2.500000\n",
      "4    2.000000\n",
      "5    1.875000\n",
      "6    1.875000\n",
      "7    1.500002\n",
      "dtype: float64\n"
     ]
    }
   ],
   "source": [
    "cost=cost_function(data)\n",
    "print(cost)"
   ]
  },
  {
   "cell_type": "markdown",
   "id": "77b27b67",
   "metadata": {},
   "source": [
    "# Now Adding my cost function in Data Frame"
   ]
  },
  {
   "cell_type": "code",
   "execution_count": 93,
   "id": "3e899ab0",
   "metadata": {},
   "outputs": [
    {
     "name": "stdout",
     "output_type": "stream",
     "text": [
      "   bias  x1  x2  y  z/hypothesis   sigmoid      cost\n",
      "0     1  60  22  0            23  1.000000  2.750000\n",
      "1     1  62  25  0            26  1.000000  3.125002\n",
      "2     1  67  24  0            25  1.000000  2.999999\n",
      "3     1  70  20  0            21  1.000000  2.500000\n",
      "4     1  71  15  1            16  1.000000  2.000000\n",
      "5     1  72  14  1            15  1.000000  1.875000\n",
      "6     1  75  14  1            15  1.000000  1.875000\n",
      "7     1  78  11  1            12  0.999994  1.500002\n"
     ]
    }
   ],
   "source": [
    "data[\"cost\"]=cost_function(data)\n",
    "print(data)"
   ]
  },
  {
   "cell_type": "markdown",
   "id": "71b0d4f5",
   "metadata": {},
   "source": [
    "# Calculating Gradient Descent"
   ]
  },
  {
   "cell_type": "code",
   "execution_count": 143,
   "id": "e37f49e8",
   "metadata": {},
   "outputs": [],
   "source": [
    "m=8\n",
    "alpha=0.02\n",
    "def gradient_Descent(data):\n",
    "        grad_0=np.sum((data[\"z/hypothesis\"]-data[\"y\"])*data[\"bias\"])/m\n",
    "        grad_1=np.sum((data[\"z/hypothesis\"]-data[\"y\"])*data[\"x1\"])/m\n",
    "        grad_2=np.sum((data[\"z/hypothesis\"]-data[\"y\"])*data[\"x2\"])/m\n",
    "        theta[0]=theta[0]-alpha*(grad_0)\n",
    "        theta[1]=theta[1]-alpha*(grad_1)\n",
    "        theta[2]=theta[2]-alpha*(grad_2)\n",
    "        \n",
    "        return theta\n",
    "        \n",
    "    "
   ]
  },
  {
   "cell_type": "code",
   "execution_count": 159,
   "id": "6bcf20db-051f-4f92-bf85-5fbcf7caa1e0",
   "metadata": {},
   "outputs": [
    {
     "data": {
      "text/html": [
       "<div>\n",
       "<style scoped>\n",
       "    .dataframe tbody tr th:only-of-type {\n",
       "        vertical-align: middle;\n",
       "    }\n",
       "\n",
       "    .dataframe tbody tr th {\n",
       "        vertical-align: top;\n",
       "    }\n",
       "\n",
       "    .dataframe thead th {\n",
       "        text-align: right;\n",
       "    }\n",
       "</style>\n",
       "<table border=\"1\" class=\"dataframe\">\n",
       "  <thead>\n",
       "    <tr style=\"text-align: right;\">\n",
       "      <th></th>\n",
       "      <th>bias</th>\n",
       "      <th>x1</th>\n",
       "      <th>x2</th>\n",
       "      <th>y</th>\n",
       "      <th>z/hypothesis</th>\n",
       "      <th>sigmoid</th>\n",
       "      <th>cost</th>\n",
       "    </tr>\n",
       "  </thead>\n",
       "  <tbody>\n",
       "    <tr>\n",
       "      <th>0</th>\n",
       "      <td>1</td>\n",
       "      <td>60</td>\n",
       "      <td>22</td>\n",
       "      <td>0</td>\n",
       "      <td>23</td>\n",
       "      <td>1.0</td>\n",
       "      <td>2.750000</td>\n",
       "    </tr>\n",
       "    <tr>\n",
       "      <th>1</th>\n",
       "      <td>1</td>\n",
       "      <td>62</td>\n",
       "      <td>25</td>\n",
       "      <td>0</td>\n",
       "      <td>26</td>\n",
       "      <td>1.0</td>\n",
       "      <td>3.125002</td>\n",
       "    </tr>\n",
       "    <tr>\n",
       "      <th>2</th>\n",
       "      <td>1</td>\n",
       "      <td>67</td>\n",
       "      <td>24</td>\n",
       "      <td>0</td>\n",
       "      <td>25</td>\n",
       "      <td>1.0</td>\n",
       "      <td>2.999999</td>\n",
       "    </tr>\n",
       "    <tr>\n",
       "      <th>3</th>\n",
       "      <td>1</td>\n",
       "      <td>70</td>\n",
       "      <td>20</td>\n",
       "      <td>0</td>\n",
       "      <td>21</td>\n",
       "      <td>1.0</td>\n",
       "      <td>2.500000</td>\n",
       "    </tr>\n",
       "    <tr>\n",
       "      <th>4</th>\n",
       "      <td>1</td>\n",
       "      <td>71</td>\n",
       "      <td>15</td>\n",
       "      <td>1</td>\n",
       "      <td>16</td>\n",
       "      <td>1.0</td>\n",
       "      <td>2.000000</td>\n",
       "    </tr>\n",
       "  </tbody>\n",
       "</table>\n",
       "</div>"
      ],
      "text/plain": [
       "   bias  x1  x2  y  z/hypothesis  sigmoid      cost\n",
       "0     1  60  22  0            23      1.0  2.750000\n",
       "1     1  62  25  0            26      1.0  3.125002\n",
       "2     1  67  24  0            25      1.0  2.999999\n",
       "3     1  70  20  0            21      1.0  2.500000\n",
       "4     1  71  15  1            16      1.0  2.000000"
      ]
     },
     "execution_count": 159,
     "metadata": {},
     "output_type": "execute_result"
    }
   ],
   "source": [
    "data.head()"
   ]
  },
  {
   "cell_type": "markdown",
   "id": "af37301b",
   "metadata": {},
   "source": [
    "# computing gradient descent"
   ]
  },
  {
   "cell_type": "code",
   "execution_count": 153,
   "id": "88ceb75a",
   "metadata": {},
   "outputs": [
    {
     "name": "stdout",
     "output_type": "stream",
     "text": [
      "[   0 -625 -175]\n",
      "[   0 -650 -182]\n",
      "[   0 -675 -189]\n",
      "[   0 -700 -196]\n",
      "[   0 -725 -203]\n",
      "[   0 -750 -210]\n",
      "[   0 -775 -217]\n",
      "[   0 -800 -224]\n",
      "[   0 -825 -231]\n",
      "[   0 -850 -238]\n"
     ]
    }
   ],
   "source": [
    "gradient=gradient_Descent(data)\n",
    "iteration=10\n",
    "for i in range(iteration):\n",
    "    gradient=gradient_Descent(data)\n",
    "    print((gradient))\n",
    "    \n",
    "         "
   ]
  },
  {
   "cell_type": "markdown",
   "id": "1efb0e8f",
   "metadata": {},
   "source": [
    "# so updated theta's are "
   ]
  },
  {
   "cell_type": "code",
   "execution_count": 155,
   "id": "3622b6b0",
   "metadata": {},
   "outputs": [
    {
     "name": "stdout",
     "output_type": "stream",
     "text": [
      "[   0 -850 -238]\n"
     ]
    }
   ],
   "source": [
    "print(gradient)"
   ]
  },
  {
   "cell_type": "code",
   "execution_count": null,
   "id": "9fb836a2-10ac-4ef3-abb7-a206d1b24f84",
   "metadata": {},
   "outputs": [],
   "source": []
  }
 ],
 "metadata": {
  "kernelspec": {
   "display_name": "Python 3 (ipykernel)",
   "language": "python",
   "name": "python3"
  },
  "language_info": {
   "codemirror_mode": {
    "name": "ipython",
    "version": 3
   },
   "file_extension": ".py",
   "mimetype": "text/x-python",
   "name": "python",
   "nbconvert_exporter": "python",
   "pygments_lexer": "ipython3",
   "version": "3.12.4"
  }
 },
 "nbformat": 4,
 "nbformat_minor": 5
}
